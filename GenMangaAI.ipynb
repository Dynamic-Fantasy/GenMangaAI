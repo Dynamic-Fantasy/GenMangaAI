{
  "nbformat": 4,
  "nbformat_minor": 0,
  "metadata": {
    "colab": {
      "private_outputs": true,
      "provenance": [],
      "gpuType": "T4"
    },
    "kernelspec": {
      "name": "python3",
      "display_name": "Python 3"
    },
    "language_info": {
      "name": "python"
    },
    "accelerator": "GPU"
  },
  "cells": [
    {
      "cell_type": "code",
      "execution_count": null,
      "metadata": {
        "id": "0vxmUyh_C5s8"
      },
      "outputs": [],
      "source": [
        "import os\n",
        "import cv2\n",
        "import textwrap\n",
        "import numpy as np\n",
        "import torch\n",
        "from PIL import Image, ImageDraw, ImageFont\n",
        "from transformers import CLIPProcessor, CLIPModel\n",
        "from diffusers import StableDiffusionPipeline\n",
        "\n",
        "\n",
        "\n"
      ]
    },
    {
      "cell_type": "code",
      "source": [
        "def generate_manga_panel(prompt, style=\"shonen\", expression=\"neutral\", output_path=\"panel.png\"):\n",
        "    model = StableDiffusionPipeline.from_pretrained(\"CompVis/stable-diffusion-v1-4\")\n",
        "    model.to(\"cuda\" if torch.cuda.is_available() else \"cpu\")\n",
        "    full_prompt = f\"{prompt}, manga-style, {style}, character expression: {expression}, black and white\"\n",
        "    image = model(full_prompt).images[0]\n",
        "    image.save(output_path)\n",
        "    print(f\"Manga panel saved as {output_path}\")\n",
        "    return output_path"
      ],
      "metadata": {
        "id": "J7HGbiVUF9a2"
      },
      "execution_count": null,
      "outputs": []
    },
    {
      "cell_type": "code",
      "source": [
        "def detect_and_remember_character(image_path, database):\n",
        "    model = CLIPModel.from_pretrained(\"openai/clip-vit-base-patch32\")\n",
        "    processor = CLIPProcessor.from_pretrained(\"openai/clip-vit-base-patch32\")\n",
        "    image = Image.open(image_path)\n",
        "    inputs = processor(images=image, return_tensors=\"pt\")\n",
        "    embedding = model.get_image_features(**inputs)\n",
        "    database[image_path] = embedding.detach().numpy()\n",
        "    print(f\"Character detected and stored for {image_path}\")\n",
        "\n"
      ],
      "metadata": {
        "id": "SXcuvFjeC8Yx"
      },
      "execution_count": null,
      "outputs": []
    },
    {
      "cell_type": "code",
      "source": [
        "def add_speech_bubble(image_path, text, position):\n",
        "    image = Image.open(image_path)\n",
        "    draw = ImageDraw.Draw(image)\n",
        "    try:\n",
        "        font = ImageFont.truetype(\"arial.ttf\", 18)\n",
        "    except:\n",
        "        font = ImageFont.load_default()\n",
        "    max_chars = 22\n",
        "    if len(text) > max_chars:\n",
        "        text = text[:max_chars] + \"...\"\n",
        "    x, y = position\n",
        "    bubble_width = 160\n",
        "    bubble_height = 80\n",
        "    draw.ellipse([x, y, x + bubble_width, y + bubble_height], fill=\"white\", outline=\"black\", width=3)\n",
        "    draw.text((x + 15, y + 30), text, fill=\"black\", font=font)\n",
        "    image.save(image_path)\n",
        "    print(f\"Speech bubble added to {image_path}\")\n",
        "\n"
      ],
      "metadata": {
        "id": "xQshiuOxFhbg"
      },
      "execution_count": null,
      "outputs": []
    },
    {
      "cell_type": "code",
      "source": [
        "def create_manga_collage(panel_paths, output_path=\"manga_page.png\", panels_per_row=2, margin=20):\n",
        "    images = [Image.open(p) for p in panel_paths]\n",
        "    max_width = max(img.width for img in images)\n",
        "    max_height = max(img.height for img in images)\n",
        "    resized = [img.resize((max_width, max_height)) for img in images]\n",
        "    rows = (len(images) + panels_per_row - 1) // panels_per_row\n",
        "    total_width = panels_per_row * max_width + (panels_per_row + 1) * margin\n",
        "    total_height = rows * max_height + (rows + 1) * margin\n",
        "    collage = Image.new(\"RGB\", (total_width, total_height), \"white\")\n",
        "    for idx, img in enumerate(resized):\n",
        "        row = idx // panels_per_row\n",
        "        col = idx % panels_per_row\n",
        "        x = margin + col * (max_width + margin)\n",
        "        y = margin + row * (max_height + margin)\n",
        "        collage.paste(img, (x, y))\n",
        "    collage.save(output_path)\n",
        "    print(f\"Manga page saved as {output_path}\")\n",
        "\n"
      ],
      "metadata": {
        "id": "8Dj4GB-MFoTa"
      },
      "execution_count": null,
      "outputs": []
    },
    {
      "cell_type": "code",
      "source": [
        "def create_fullpage_manga_collage(panel_paths, output_path=\"manga_page.png\"):\n",
        "    page_width, page_height = 2480, 3508\n",
        "    background = Image.new(\"RGB\", (page_width, page_height), \"white\")\n",
        "    draw = ImageDraw.Draw(background)\n",
        "    panels = [Image.open(p) for p in panel_paths]\n",
        "    if not panels:\n",
        "        print(\"No panels provided.\")\n",
        "        return\n",
        "    import random\n",
        "    num_rows = random.randint(2, 4)\n",
        "    panel_grid = [[] for _ in range(num_rows)]\n",
        "    for i, panel in enumerate(panels):\n",
        "        panel_grid[i % num_rows].append(panel)\n",
        "    current_y = 0\n",
        "    for row_panels in panel_grid:\n",
        "        row_height = page_height // num_rows\n",
        "        num_cols = len(row_panels)\n",
        "        current_x = 0\n",
        "        for panel in row_panels:\n",
        "            col_width = page_width // num_cols\n",
        "            resized = panel.resize((col_width, row_height))\n",
        "            background.paste(resized, (current_x, current_y))\n",
        "            draw.rectangle([current_x, current_y, current_x + col_width, current_y + row_height], outline=\"black\", width=5)\n",
        "            current_x += col_width\n",
        "        current_y += row_height\n",
        "    background.save(output_path)\n",
        "    print(f\"Full-page manga saved as {output_path}\")\n",
        "\n"
      ],
      "metadata": {
        "id": "28Fi-vfqFxBl"
      },
      "execution_count": null,
      "outputs": []
    },
    {
      "cell_type": "code",
      "source": [
        "\n",
        "character_db = {}\n",
        "\n",
        "panel1 = generate_manga_panel(\n",
        "    \"A full moon glows over a war-torn battlefield littered with swords and fallen warriors. Two samurai face each other from a distance.\",\n",
        "    \"seinen\", \"tense\", \"panel1.png\"\n",
        ")\n",
        "\n",
        "panel2 = generate_manga_panel(\n",
        "    \"Close-up of a samurai drawing his katana slowly, eyes full of sorrow and rage. The wind blows his hair and clothes.\",\n",
        "    \"shonen\", \"serious\", \"panel2.png\"\n",
        ")\n",
        "\n",
        "panel3 = generate_manga_panel(\n",
        "    \"The rival samurai with a confident smirk, holding his katana on his shoulder under the crimson moonlight.\",\n",
        "    \"seinen\", \"smug\", \"panel3.png\"\n",
        ")\n",
        "\n",
        "panel4 = generate_manga_panel(\n",
        "    \"Dynamic clash of both samurai under the moonlight, ink splashes mimicking blood and impact.\",\n",
        "    \"shonen\", \"intense\", \"panel4.png\"\n",
        ")\n",
        "\n",
        "panel5 = generate_manga_panel(\n",
        "    \"Protagonist samurai wounded, blood dripping, still standing firm with burning eyes.\",\n",
        "    \"seinen\", \"gritty\", \"panel5.png\"\n",
        ")\n",
        "\n",
        "panel6 = generate_manga_panel(\n",
        "    \"Final blow as one samurai strikes while the moon shines bright, thick diagonal ink lines.\",\n",
        "    \"shonen\", \"final\", \"panel6.png\"\n",
        ")\n",
        "\n",
        "for panel in [panel1, panel2, panel3, panel4, panel5, panel6]:\n",
        "    detect_and_remember_character(panel, character_db)\n",
        "\n",
        "add_speech_bubble(panel1, \"Tonight... it ends.\", (150, 60))\n",
        "add_speech_bubble(panel2, \"I swore on his grave I would finish this!\", (100, 200))\n",
        "add_speech_bubble(panel3, \"You’re still chasing ghosts, brother?\", (180, 150))\n",
        "add_speech_bubble(panel4, \"HAAAARGH!\", (200, 100))\n",
        "add_speech_bubble(panel5, \"I won’t fall... not yet...\", (160, 220))\n",
        "add_speech_bubble(panel6, \"Forgive me.\", (180, 100))\n",
        "\n",
        "create_manga_collage([panel1, panel2, panel3, panel4, panel5, panel6], \"final_manga.png\", panels_per_row=2, margin=30)\n",
        "create_fullpage_manga_collage([panel1, panel2, panel3, panel4, panel5])\n"
      ],
      "metadata": {
        "id": "FFOdZ_6_F16r"
      },
      "execution_count": null,
      "outputs": []
    },
    {
      "cell_type": "code",
      "source": [],
      "metadata": {
        "id": "dlwxh1whGCXv"
      },
      "execution_count": null,
      "outputs": []
    }
  ]
}